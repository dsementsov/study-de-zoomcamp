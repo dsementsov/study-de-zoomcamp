{
 "cells": [
  {
   "cell_type": "code",
   "execution_count": null,
   "id": "1f68f7d2",
   "metadata": {},
   "outputs": [],
   "source": [
    "!pip install pandas\n",
    "!pip install sqlalchemy\n",
    "!pip install psycopg2"
   ]
  },
  {
   "cell_type": "code",
   "execution_count": null,
   "id": "7544ed15-e412-4d56-a07d-d6341cd3075c",
   "metadata": {},
   "outputs": [],
   "source": [
    "import pandas as pd\n",
    "from sqlalchemy import create_engine"
   ]
  },
  {
   "cell_type": "code",
   "execution_count": null,
   "id": "d1ea0466-bfb0-4f7c-b327-d4820bb9790e",
   "metadata": {},
   "outputs": [],
   "source": [
    "# credebtuaks are arbitraty to local container so safe to put inline\n",
    "engine = create_engine(\"postgresql://postgres:postgres@pg_taxi_data:5432/postgres\")"
   ]
  },
  {
   "cell_type": "code",
   "execution_count": null,
   "id": "24c32b85-2021-447d-aa2c-a1f3cf8291f7",
   "metadata": {},
   "outputs": [],
   "source": [
    "def execute_statement(statement, engine):\n",
    "    from pprint import pprint as pprint\n",
    "    with engine.connect() as conn:\n",
    "        curr = conn.execute(statement)\n",
    "        for row in curr:\n",
    "            pprint(row)"
   ]
  },
  {
   "cell_type": "markdown",
   "id": "71b84fce",
   "metadata": {},
   "source": []
  },
  {
   "cell_type": "code",
   "execution_count": null,
   "id": "6215a5e2-6316-487c-b0bc-5608bb82d4d1",
   "metadata": {},
   "outputs": [],
   "source": [
    "# fetching column names for ease of working\n",
    "pd.read_sql(\"SELECT * FROM taxi_trips LIMIT 1\", con=engine)"
   ]
  },
  {
   "cell_type": "code",
   "execution_count": null,
   "id": "4d9d87f4-5875-459b-a018-2162a4b8d4be",
   "metadata": {},
   "outputs": [],
   "source": [
    "pd.read_sql(\"SELECT * FROM taxi_zones LIMIT 1\", con=engine)"
   ]
  },
  {
   "cell_type": "code",
   "execution_count": null,
   "id": "ec67d919-81be-492e-b585-842f81bb9c8d",
   "metadata": {},
   "outputs": [],
   "source": [
    "# testing connection\n",
    "execute_statement(\"SELECT count(1) FROM taxi_trips\", engine)"
   ]
  },
  {
   "cell_type": "code",
   "execution_count": null,
   "id": "0e941fd7-ff1b-42f5-ab5f-a8d799b6f1dc",
   "metadata": {},
   "outputs": [],
   "source": [
    "# Question 3: How many trips were totally made on January 15\n",
    "# Methodology: the trip has to start and end on the same date\n",
    "# Approach: cast both timestamps to date (postgres understands YYYY-MM-DD)\n",
    "execute_statement(\"SELECT count(1) FROM taxi_trips WHERE lpep_pickup_datetime::date = '2019-01-15' and lpep_dropoff_datetime::date = '2019-01-15'\", engine)"
   ]
  },
  {
   "cell_type": "code",
   "execution_count": null,
   "id": "ef996fc7-26be-48a8-a05b-733b4f0ad372",
   "metadata": {},
   "outputs": [],
   "source": [
    "# Question 4: Which was the day with the largest trip distance\n",
    "# Methodology: fetch date with max travel distance\n",
    "# Approach: there are two possible approaches here. The more consistent one that requires more computational power\n",
    "# is sorting. Another one would be selecting map trip distance first and then getting the date for it\n",
    "# 2 fetches\n",
    "execute_statement(\"SELECT lpep_pickup_datetime, lpep_dropoff_datetime FROM taxi_trips WHERE trip_distance = (SELECT max(trip_distance) from taxi_trips)\", engine)\n",
    "# sorting\n",
    "execute_statement(\"SELECT lpep_pickup_datetime, lpep_dropoff_datetime FROM taxi_trips ORDER BY trip_distance DESC LIMIT 1\", engine)"
   ]
  },
  {
   "cell_type": "code",
   "execution_count": null,
   "id": "f402ee97-ad0f-4676-83aa-2d48a00949e7",
   "metadata": {
    "tags": []
   },
   "outputs": [],
   "source": [
    "# Question 5: In 2019-01-01 how many trips had 2 and 3 passengers?\n",
    "# Methodology: since fetching the same dates (start and end) returns result that is not in the answers, explore start and end separately\n",
    "# Approach: filter by passenger count and date, fetch count of start and end dates to make sure we are consistent\n",
    "print(\"Start & End\")\n",
    "execute_statement(\"SELECT count(lpep_pickup_datetime), count(lpep_dropoff_datetime) FROM taxi_trips WHERE lpep_pickup_datetime::date = '2019-01-01' and lpep_dropoff_datetime::date = '2019-01-01' and passenger_count = 2\", engine)\n",
    "execute_statement(\"SELECT count(lpep_pickup_datetime), count(lpep_dropoff_datetime) FROM taxi_trips WHERE lpep_pickup_datetime::date = '2019-01-01' and lpep_dropoff_datetime::date = '2019-01-01' and passenger_count = 3\", engine)\n",
    "\n",
    "print(\"Start\")\n",
    "execute_statement(\"SELECT count(lpep_pickup_datetime), count(lpep_dropoff_datetime) FROM taxi_trips WHERE lpep_pickup_datetime::date = '2019-01-01' and passenger_count = 2\", engine)\n",
    "execute_statement(\"SELECT count(lpep_pickup_datetime), count(lpep_dropoff_datetime) FROM taxi_trips WHERE lpep_pickup_datetime::date = '2019-01-01' and passenger_count = 3\", engine)\n",
    "\n",
    "print(\"End\")\n",
    "execute_statement(\"SELECT count(lpep_pickup_datetime), count(lpep_dropoff_datetime) FROM taxi_trips WHERE lpep_dropoff_datetime::date = '2019-01-01' and passenger_count = 2\", engine)\n",
    "execute_statement(\"SELECT count(lpep_pickup_datetime), count(lpep_dropoff_datetime) FROM taxi_trips WHERE lpep_dropoff_datetime::date = '2019-01-01' and passenger_count = 3\", engine)"
   ]
  },
  {
   "cell_type": "code",
   "execution_count": null,
   "id": "9015e995-a336-407b-909a-75bf6ce6f7cd",
   "metadata": {},
   "outputs": [],
   "source": [
    "# Question 6: For the passengers picked up in the Astoria Zone which was the drop up zone that had the largest tip?\n",
    "# Methodology: we could sql join the two tables, or take a multi-step approach. Since the column names are capitalized, we take it in \"\"\n",
    "# Approach: \n",
    "# Step 1: Fetch an ID for Astoria Zone\n",
    "# Step 2: Fetch largest tip for Astoria Zone ID and drop off zone ID\n",
    "# Step 3: Fetch drop off zone ID name\n",
    "\n",
    "# Stepwise\n",
    "# execute_statement(\"\"\"SELECT \"LocationID\" FROM taxi_zones WHERE \"Zone\" = 'Astoria'\"\"\", engine) # returns 7\n",
    "# execute_statement(\"\"\"SELECT max(tip_amount) FROM taxi_trips WHERE \"PULocationID\" = 7\"\"\", engine) # returns 88\n",
    "# execute_statement(\"\"\"SELECT \"DOLocationID\" FROM taxi_trips WHERE tip_amount = 88.0\"\"\", engine) # returns 146\n",
    "# execute_statement(\"\"\"SELECT \"Zone\" FROM taxi_zones WHERE \"LocationID\" = 146\"\"\", engine)\n",
    "\n",
    "# Single query using subqueries\n",
    "query = \"\"\"\n",
    "    SELECT \"Zone\"\n",
    "    FROM (\n",
    "        SELECT \"DOLocationID\", tip_amount\n",
    "        FROM (\n",
    "            SELECT tip_amount, \"PULocationID\", \"Zone\", \"DOLocationID\"\n",
    "            FROM taxi_trips tt\n",
    "            LEFT JOIN taxi_zones tz\n",
    "            ON \"PULocationID\" = \"LocationID\"\n",
    "            ) as pull_join\n",
    "        WHERE \"Zone\" = 'Astoria'\n",
    "        ORDER BY tip_amount DESC LIMIT 1\n",
    "        ) top_tip_in_astoria\n",
    "    JOIN taxi_zones\n",
    "    ON \"DOLocationID\" = \"LocationID\"\n",
    "        \"\"\"\n",
    "\n",
    "execute_statement(query, engine)\n"
   ]
  }
 ],
 "metadata": {
  "kernelspec": {
   "display_name": "Python 3 (ipykernel)",
   "language": "python",
   "name": "python3"
  },
  "language_info": {
   "codemirror_mode": {
    "name": "ipython",
    "version": 3
   },
   "file_extension": ".py",
   "mimetype": "text/x-python",
   "name": "python",
   "nbconvert_exporter": "python",
   "pygments_lexer": "ipython3",
   "version": "3.10.6"
  }
 },
 "nbformat": 4,
 "nbformat_minor": 5
}
