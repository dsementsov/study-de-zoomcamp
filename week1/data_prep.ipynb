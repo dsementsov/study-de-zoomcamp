{
 "cells": [
  {
   "cell_type": "code",
   "execution_count": null,
   "id": "a2d3e463-100f-46bd-b9bd-25e45a907b5f",
   "metadata": {},
   "outputs": [],
   "source": []
  },
  {
   "cell_type": "code",
   "execution_count": null,
   "id": "8975f85b-e4c9-4480-b3cc-c4384efbbaa7",
   "metadata": {},
   "outputs": [],
   "source": [
    "!http_proxy=\"127.0.0.1\""
   ]
  },
  {
   "cell_type": "code",
   "execution_count": null,
   "id": "e8e27812-a56d-4630-9f83-7f14f50d8713",
   "metadata": {
    "collapsed": true,
    "jupyter": {
     "outputs_hidden": true
    },
    "tags": []
   },
   "outputs": [],
   "source": []
  },
  {
   "cell_type": "code",
   "execution_count": null,
   "id": "0e8922d0-b606-425a-8ecc-b86e68e848f6",
   "metadata": {},
   "outputs": [],
   "source": []
  },
  {
   "cell_type": "code",
   "execution_count": null,
   "id": "76bc0f9f-01e4-443e-89e1-bcda34b8c49f",
   "metadata": {},
   "outputs": [],
   "source": [
    "# local db\n"
   ]
  },
  {
   "cell_type": "code",
   "execution_count": null,
   "id": "a729d7b1-03a9-43ef-98fd-697872dc567e",
   "metadata": {},
   "outputs": [],
   "source": []
  },
  {
   "cell_type": "code",
   "execution_count": null,
   "id": "9e12e2bf-f923-4bd5-a87c-13adafe6cfeb",
   "metadata": {},
   "outputs": [],
   "source": [
    "large_df = pd.read_csv(dataset_fname, chunksize=100000)"
   ]
  },
  {
   "cell_type": "code",
   "execution_count": null,
   "id": "5004bdc0-41db-43a0-a08d-a845ca03647d",
   "metadata": {},
   "outputs": [],
   "source": [
    "# this is small enough to just push it like that\n",
    "df.to_sql(\"taxi_zones\", con=engine)"
   ]
  },
  {
   "cell_type": "code",
   "execution_count": null,
   "id": "e54ca330-aebe-43f5-992a-37c03a095bd2",
   "metadata": {},
   "outputs": [],
   "source": [
    "for chunk in large_df:\n",
    "    chunk[\"lpep_pickup_datetime\"] = pd.to_datetime(chunk[\"lpep_pickup_datetime\"])\n",
    "    chunk[\"lpep_dropoff_datetime\"] = pd.to_datetime(chunk[\"lpep_dropoff_datetime\"])\n",
    "    \n",
    "    chunk.to_sql(\"taxi_trips\", con=engine, if_exists=\"append\")"
   ]
  },
  {
   "cell_type": "code",
   "execution_count": null,
   "id": "55a22108-1cc6-457d-b5d0-54a23f82e62d",
   "metadata": {},
   "outputs": [],
   "source": [
    "conn = engine.connect()"
   ]
  },
  {
   "cell_type": "code",
   "execution_count": null,
   "id": "d8c0e1b2-79df-40a7-bb1e-323bade83e98",
   "metadata": {},
   "outputs": [],
   "source": [
    "curr = conn.execute(\"SELECT * FROM taxi_trips LIMIT 10\")"
   ]
  },
  {
   "cell_type": "code",
   "execution_count": null,
   "id": "c776d47e-3c27-4814-b016-5b7ff0712b6e",
   "metadata": {},
   "outputs": [],
   "source": [
    "pd.read_sql(\"SELECT * FROM taxi_trips LIMIT 100\", con=engine)"
   ]
  },
  {
   "cell_type": "code",
   "execution_count": null,
   "id": "db3017e3-6a1c-4783-8ea3-c3cb38c8deee",
   "metadata": {},
   "outputs": [],
   "source": [
    "curr = conn.execute(\"SELECT count(1) FROM taxi_trips WHERE lpep_dropoff_datetime >= '2019-01-15 00:00:00' and lpep_dropoff_datetime < '2019-01-16 00:00:00' and lpep_pickup_datetime >= '2019-01-15 00:00:00' and lpep_pickup_datetime <= '2019-01-16 00:00:00'\")"
   ]
  },
  {
   "cell_type": "code",
   "execution_count": null,
   "id": "2f62c2e2-68c5-45d2-b8ed-29ae863a7c91",
   "metadata": {},
   "outputs": [],
   "source": [
    "next(curr)"
   ]
  },
  {
   "cell_type": "code",
   "execution_count": null,
   "id": "4031c00f-dafc-4824-ad25-96fc6337105d",
   "metadata": {},
   "outputs": [],
   "source": [
    "curr = conn.execute(\"SELECT max(trip_distance) FROM taxi_trips\")"
   ]
  },
  {
   "cell_type": "code",
   "execution_count": null,
   "id": "0db69abc-62fc-4b11-b2f0-fb61f5ba1bff",
   "metadata": {},
   "outputs": [],
   "source": [
    "next(curr)"
   ]
  },
  {
   "cell_type": "code",
   "execution_count": null,
   "id": "4c6c9c9b-c0bc-44b9-8218-faed6f75470d",
   "metadata": {},
   "outputs": [],
   "source": [
    "next(conn.execute(\"SELECT lpep_pickup_datetime, lpep_dropoff_datetime FROM taxi_trips WHERE trip_distance = 117.99\"))"
   ]
  },
  {
   "cell_type": "code",
   "execution_count": null,
   "id": "5849a38d-3dec-4a44-bf24-c171f042b280",
   "metadata": {},
   "outputs": [],
   "source": [
    "next(conn.execute(\"SELECT count(1) FROM taxi_trips WHERE passenger_count = 3 and lpep_pickup_datetime::date = '2019-01-01'\"))"
   ]
  },
  {
   "cell_type": "code",
   "execution_count": null,
   "id": "2b9a7ebf-9200-4cb1-8f9c-6b0bf3eccacb",
   "metadata": {},
   "outputs": [],
   "source": []
  },
  {
   "cell_type": "code",
   "execution_count": null,
   "id": "bf0b95f5-ca78-456e-ba28-dd0e21938be7",
   "metadata": {},
   "outputs": [],
   "source": []
  },
  {
   "cell_type": "code",
   "execution_count": null,
   "id": "c573e70f-f59f-404c-a995-d49cd4932d3d",
   "metadata": {},
   "outputs": [],
   "source": [
    "--iidfile string\n",
    "3\n",
    "20530\n",
    "2019-01-15\n",
    "1282 \\ 254"
   ]
  }
 ],
 "metadata": {
  "kernelspec": {
   "display_name": "Python 3 (ipykernel)",
   "language": "python",
   "name": "python3"
  },
  "language_info": {
   "codemirror_mode": {
    "name": "ipython",
    "version": 3
   },
   "file_extension": ".py",
   "mimetype": "text/x-python",
   "name": "python",
   "nbconvert_exporter": "python",
   "pygments_lexer": "ipython3",
   "version": "3.10.6"
  }
 },
 "nbformat": 4,
 "nbformat_minor": 5
}
